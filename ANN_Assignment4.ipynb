{
  "nbformat": 4,
  "nbformat_minor": 0,
  "metadata": {
    "colab": {
      "provenance": [],
      "authorship_tag": "ABX9TyMANgwvjq4w2MqoxNOq32nR"
    },
    "kernelspec": {
      "name": "python3",
      "display_name": "Python 3"
    },
    "language_info": {
      "name": "python"
    }
  },
  "cells": [
    {
      "cell_type": "markdown",
      "source": [
        "- Assignment to be done in groups of 2, if you want you can do it alone but groups of 2 max!\n",
        "Task:\n",
        "- Implement resent 18 from scratch using pytorch. You can add your own sauce to increase performance but do not increase the number of parameters\n",
        "- compare and contrast the performance with Adam, AdamW, RMSprop and SGD with momentum. Talk about which performed better and why\n",
        "- prune and quantize the model.\n",
        "- deploy the model using fast and or flask api"
      ],
      "metadata": {
        "id": "icFWLhRry0WH"
      }
    },
    {
      "cell_type": "code",
      "execution_count": null,
      "metadata": {
        "id": "bDuuVPxtyx9L"
      },
      "outputs": [],
      "source": []
    }
  ]
}