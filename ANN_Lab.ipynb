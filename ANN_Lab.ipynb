{
  "nbformat": 4,
  "nbformat_minor": 0,
  "metadata": {
    "colab": {
      "provenance": [],
      "authorship_tag": "ABX9TyOAyetXgRCAm78ugucF098y"
    },
    "kernelspec": {
      "name": "python3",
      "display_name": "Python 3"
    },
    "language_info": {
      "name": "python"
    }
  },
  "cells": [
    {
      "cell_type": "markdown",
      "source": [
        "# Lab 1"
      ],
      "metadata": {
        "id": "wQpEDC1bh3Iu"
      }
    },
    {
      "cell_type": "markdown",
      "source": [
        "## Introduction to Pytorch"
      ],
      "metadata": {
        "id": "9V0MbpFkxtnO"
      }
    },
    {
      "cell_type": "code",
      "execution_count": null,
      "metadata": {
        "id": "V8YOE9OAvrnO"
      },
      "outputs": [],
      "source": [
        "import torch"
      ]
    },
    {
      "cell_type": "code",
      "source": [
        "# Number\n",
        "t1 = torch.tensor(4.)\n",
        "t1"
      ],
      "metadata": {
        "colab": {
          "base_uri": "https://localhost:8080/"
        },
        "id": "Jpb8T2j_xsm4",
        "outputId": "b513ca12-bd0b-4d3d-e283-8b5a98503f96"
      },
      "execution_count": null,
      "outputs": [
        {
          "output_type": "execute_result",
          "data": {
            "text/plain": [
              "tensor(4.)"
            ]
          },
          "metadata": {},
          "execution_count": 33
        }
      ]
    },
    {
      "cell_type": "markdown",
      "source": [
        "1. = float"
      ],
      "metadata": {
        "id": "P2XfmtP3yMto"
      }
    },
    {
      "cell_type": "code",
      "source": [
        "# Vector\n",
        "t2 = torch.tensor([1.,2,3,4])\n",
        "t2[1]"
      ],
      "metadata": {
        "colab": {
          "base_uri": "https://localhost:8080/"
        },
        "id": "5kGWxELwx_gA",
        "outputId": "8b354d3a-fafe-4b7c-dba8-e52d1af6ce71"
      },
      "execution_count": null,
      "outputs": [
        {
          "output_type": "execute_result",
          "data": {
            "text/plain": [
              "tensor(2.)"
            ]
          },
          "metadata": {},
          "execution_count": 34
        }
      ]
    },
    {
      "cell_type": "code",
      "source": [
        "# Matrix\n",
        "t3 = torch.tensor([\n",
        "])"
      ],
      "metadata": {
        "id": "cE58lGR8yYgw"
      },
      "execution_count": null,
      "outputs": []
    },
    {
      "cell_type": "markdown",
      "source": [
        "t4.shape = size or length of matrix (as in numpy)"
      ],
      "metadata": {
        "id": "RiTUgeM4y8vq"
      }
    },
    {
      "cell_type": "code",
      "source": [
        "# Create tensors\n",
        "x = torch.tensor(3.)\n",
        "w = torch.tensor(4., requires_grad=True)\n",
        "b = torch.tensor(5., requires_grad=True)\n",
        "x, w, b"
      ],
      "metadata": {
        "colab": {
          "base_uri": "https://localhost:8080/"
        },
        "id": "FqzHIQSszdQD",
        "outputId": "2db53f0c-5437-4a8c-f50f-0f23ba8e027f"
      },
      "execution_count": null,
      "outputs": [
        {
          "output_type": "execute_result",
          "data": {
            "text/plain": [
              "(tensor(3.), tensor(4., requires_grad=True), tensor(5., requires_grad=True))"
            ]
          },
          "metadata": {},
          "execution_count": 49
        }
      ]
    },
    {
      "cell_type": "markdown",
      "source": [
        "Line parameters\n",
        "(Min error function)\n",
        "\n",
        "Gradient descent (not in matlab or numpy)"
      ],
      "metadata": {
        "id": "q2k-sAv8z3Vr"
      }
    },
    {
      "cell_type": "code",
      "source": [
        "# Arithmetic Operations\n",
        "y = w*x + b\n",
        "y"
      ],
      "metadata": {
        "colab": {
          "base_uri": "https://localhost:8080/"
        },
        "id": "h2Lk10Ai0lG4",
        "outputId": "e18d66da-e285-4688-e889-a0d0e3511422"
      },
      "execution_count": null,
      "outputs": [
        {
          "output_type": "execute_result",
          "data": {
            "text/plain": [
              "tensor(17., grad_fn=<AddBackward0>)"
            ]
          },
          "metadata": {},
          "execution_count": 50
        }
      ]
    },
    {
      "cell_type": "code",
      "source": [
        "# Compute derivatives\n",
        "y.backward()"
      ],
      "metadata": {
        "id": "AV_HloiF018Y"
      },
      "execution_count": null,
      "outputs": []
    },
    {
      "cell_type": "code",
      "source": [
        "# Display gradients\n",
        "print('dy/dx:', x.grad)\n",
        "print('dy/dw:', w.grad)\n",
        "print('dy/db:', b.grad)"
      ],
      "metadata": {
        "colab": {
          "base_uri": "https://localhost:8080/"
        },
        "id": "_heT1S801pRB",
        "outputId": "94b2f2eb-1851-4518-b033-0ddfe5537382"
      },
      "execution_count": null,
      "outputs": [
        {
          "output_type": "stream",
          "name": "stdout",
          "text": [
            "dy/dx: None\n",
            "dy/dw: tensor(3.)\n",
            "dy/db: tensor(1.)\n"
          ]
        }
      ]
    },
    {
      "cell_type": "code",
      "source": [
        "# Arithmetic Operations\n",
        "#y1 = w*w*x + b\n",
        "w1 = torch.tensor(2., requires_grad=True)\n",
        "y1 = w1*y\n",
        "y1"
      ],
      "metadata": {
        "colab": {
          "base_uri": "https://localhost:8080/"
        },
        "id": "jQ_t8pWv2TbN",
        "outputId": "4c1a0996-7c3e-4fb9-de7e-b9aab2cc3ccc"
      },
      "execution_count": null,
      "outputs": [
        {
          "output_type": "execute_result",
          "data": {
            "text/plain": [
              "tensor(34., grad_fn=<MulBackward0>)"
            ]
          },
          "metadata": {},
          "execution_count": 51
        }
      ]
    },
    {
      "cell_type": "code",
      "source": [
        "w2 = torch.tensor(2., requires_grad=True)\n",
        "y2 = w2*y1\n",
        "y2"
      ],
      "metadata": {
        "id": "OP7IgiGm4Bdg",
        "colab": {
          "base_uri": "https://localhost:8080/"
        },
        "outputId": "641b84a0-1d0d-40a3-ebd7-43b4f7e618a4"
      },
      "execution_count": null,
      "outputs": [
        {
          "output_type": "execute_result",
          "data": {
            "text/plain": [
              "tensor(68., grad_fn=<MulBackward0>)"
            ]
          },
          "metadata": {},
          "execution_count": 52
        }
      ]
    },
    {
      "cell_type": "code",
      "source": [
        "# Compute derivatives\n",
        "y2.backward()"
      ],
      "metadata": {
        "id": "yLpkT_Ro2fsj"
      },
      "execution_count": null,
      "outputs": []
    },
    {
      "cell_type": "code",
      "source": [
        "# Display gradients\n",
        "print('dy/dx:', x.grad)\n",
        "print('dy/dw:', w.grad)\n",
        "print('dy/db:', b.grad)\n",
        "print('dy/dw:', w1.grad)\n",
        "print('dy/dw:', w2.grad)"
      ],
      "metadata": {
        "colab": {
          "base_uri": "https://localhost:8080/"
        },
        "id": "agIh7oWv2i6z",
        "outputId": "2bb8a435-03d1-4e1e-854d-d767b2a09c1b"
      },
      "execution_count": null,
      "outputs": [
        {
          "output_type": "stream",
          "name": "stdout",
          "text": [
            "dy/dx: None\n",
            "dy/dw: tensor(12.)\n",
            "dy/db: tensor(4.)\n",
            "dy/dw: tensor(34.)\n",
            "dy/dw: tensor(34.)\n"
          ]
        }
      ]
    },
    {
      "cell_type": "markdown",
      "source": [
        "# Lab 2"
      ],
      "metadata": {
        "id": "dYZg9j7bh62I"
      }
    },
    {
      "cell_type": "markdown",
      "source": [
        "## Activations"
      ],
      "metadata": {
        "id": "ZTufDBV-NPR7"
      }
    },
    {
      "cell_type": "markdown",
      "source": [
        "B = 1/(1+e^-a)"
      ],
      "metadata": {
        "id": "YUv323CxJPSr"
      }
    },
    {
      "cell_type": "code",
      "source": [
        "alpha = torch.tensor(4., requires_grad=True)\n",
        "beta = 1/(1+torch.exp(-1*alpha))\n",
        "beta"
      ],
      "metadata": {
        "colab": {
          "base_uri": "https://localhost:8080/"
        },
        "id": "Tq3PNpbbHT53",
        "outputId": "771374b3-9761-4fd0-c54b-76155b8ab73d"
      },
      "execution_count": null,
      "outputs": [
        {
          "output_type": "execute_result",
          "data": {
            "text/plain": [
              "tensor(0.9820, grad_fn=<MulBackward0>)"
            ]
          },
          "metadata": {},
          "execution_count": 55
        }
      ]
    },
    {
      "cell_type": "code",
      "source": [
        "# Compute derivatives\n",
        "beta.backward()"
      ],
      "metadata": {
        "id": "HSngIFkJImRg"
      },
      "execution_count": null,
      "outputs": []
    },
    {
      "cell_type": "markdown",
      "source": [
        "dB/da\n",
        "\n",
        "B(1-B)"
      ],
      "metadata": {
        "id": "R69vBJ-RJLvS"
      }
    },
    {
      "cell_type": "code",
      "source": [
        "# Display gradients\n",
        "print('da/dB:', alpha.grad)\n",
        "print('da/dB:', beta*(1-beta))"
      ],
      "metadata": {
        "colab": {
          "base_uri": "https://localhost:8080/"
        },
        "id": "lVkZ1zutIrzf",
        "outputId": "8a7be899-1083-4429-84ef-50abc9f4233a"
      },
      "execution_count": null,
      "outputs": [
        {
          "output_type": "stream",
          "name": "stdout",
          "text": [
            "da/dB: tensor(0.0177)\n",
            "da/dB: tensor(0.0177, grad_fn=<MulBackward0>)\n"
          ]
        }
      ]
    },
    {
      "cell_type": "code",
      "source": [
        "import numpy as np\n",
        "import matplotlib.pyplot as plt\n",
        "\n",
        "inputs = []\n",
        "activations = []\n",
        "gradients = []\n",
        "\n",
        "for input in np.arange(-1,1,0.001):\n",
        "  inputs.append(input)\n",
        "  input = torch.tensor(input, requires_grad=True)\n",
        "  activation = torch.sin(1/input)\n",
        "  activation.backward()\n",
        "  gradients.append(input.grad)\n",
        "  activations.append(activation.detach())\n",
        "\n",
        "plt.plot(inputs, gradients, label='gradients')\n",
        "plt.plot(inputs, activations, label='output')\n",
        "plt.legend()\n",
        "plt.title('Output of sin(1/x)')"
      ],
      "metadata": {
        "colab": {
          "base_uri": "https://localhost:8080/",
          "height": 298
        },
        "id": "lBX_UBnUJ_lY",
        "outputId": "36dd4286-b4a6-499c-f6aa-4922495203d2"
      },
      "execution_count": null,
      "outputs": [
        {
          "output_type": "execute_result",
          "data": {
            "text/plain": [
              "Text(0.5, 1.0, 'Output of sin(1/x)')"
            ]
          },
          "metadata": {},
          "execution_count": 6
        },
        {
          "output_type": "display_data",
          "data": {
            "text/plain": [
              "<Figure size 432x288 with 1 Axes>"
            ],
            "image/png": "[encoded data removed]"
          },
          "metadata": {
            "needs_background": "light"
          }
        }
      ]
    },
    {
      "cell_type": "code",
      "source": [
        "x = np.array([[1, 2],[3, 4.]])\n",
        "x"
      ],
      "metadata": {
        "colab": {
          "base_uri": "https://localhost:8080/"
        },
        "id": "s1hL5K4CNeNu",
        "outputId": "0edebb42-30b8-4a36-bd12-50a45f9e2c73"
      },
      "execution_count": null,
      "outputs": [
        {
          "output_type": "execute_result",
          "data": {
            "text/plain": [
              "array([[1., 2.],\n",
              "       [3., 4.]])"
            ]
          },
          "metadata": {},
          "execution_count": 67
        }
      ]
    },
    {
      "cell_type": "code",
      "source": [
        "y = torch.from_numpy(x)\n",
        "y"
      ],
      "metadata": {
        "colab": {
          "base_uri": "https://localhost:8080/"
        },
        "id": "cLCoRo_WNtMu",
        "outputId": "923217e7-4f7a-4f1a-996b-d5311fa543ec"
      },
      "execution_count": null,
      "outputs": [
        {
          "output_type": "execute_result",
          "data": {
            "text/plain": [
              "tensor([[1., 2.],\n",
              "        [3., 4.]], dtype=torch.float64)"
            ]
          },
          "metadata": {},
          "execution_count": 70
        }
      ]
    },
    {
      "cell_type": "code",
      "source": [
        "z = y.numpy()\n",
        "z"
      ],
      "metadata": {
        "colab": {
          "base_uri": "https://localhost:8080/"
        },
        "id": "9TVnUZM9OM00",
        "outputId": "f3e0770a-33ca-40ab-d23a-a9f712ef9588"
      },
      "execution_count": null,
      "outputs": [
        {
          "output_type": "execute_result",
          "data": {
            "text/plain": [
              "array([[1., 2.],\n",
              "       [3., 4.]])"
            ]
          },
          "metadata": {},
          "execution_count": 71
        }
      ]
    },
    {
      "cell_type": "markdown",
      "source": [
        "## Linear Regression"
      ],
      "metadata": {
        "id": "bS0TybyNN27E"
      }
    },
    {
      "cell_type": "code",
      "source": [
        "inputs = np.array([[73, 67, 43],\n",
        "                   [91, 88, 64],\n",
        "                   [87, 134, 58],\n",
        "                   [102, 43, 37],\n",
        "                   [69, 96, 70]], dtype='float32')\n",
        "targets = np.array ([[56, 70],\n",
        "                     [81, 101],\n",
        "                     [119,133],\n",
        "                     [22, 37],\n",
        "                     [103, 119]], dtype='float32')"
      ],
      "metadata": {
        "id": "JdB9rCiwPQip"
      },
      "execution_count": null,
      "outputs": []
    },
    {
      "cell_type": "code",
      "source": [
        "# Convert inputs and targets into tensors\n",
        "inputs = torch.from_numpy(inputs)\n",
        "targets = torch.from_numpy(targets)\n",
        "print(inputs)\n",
        "print(targets)"
      ],
      "metadata": {
        "colab": {
          "base_uri": "https://localhost:8080/"
        },
        "id": "X-F7UTl7Qee5",
        "outputId": "ea02010f-1478-45ba-c3ae-fbbaa1eb9792"
      },
      "execution_count": null,
      "outputs": [
        {
          "output_type": "stream",
          "name": "stdout",
          "text": [
            "tensor([[ 73.,  67.,  43.],\n",
            "        [ 91.,  88.,  64.],\n",
            "        [ 87., 134.,  58.],\n",
            "        [102.,  43.,  37.],\n",
            "        [ 69.,  96.,  70.]])\n",
            "tensor([[ 56.,  70.],\n",
            "        [ 81., 101.],\n",
            "        [119., 133.],\n",
            "        [ 22.,  37.],\n",
            "        [103., 119.]])\n"
          ]
        }
      ]
    },
    {
      "cell_type": "code",
      "source": [
        "# Weights and biases\n",
        "w = torch.randn(2, 3, requires_grad=True)\n",
        "b = torch.randn(2, requires_grad=True)\n",
        "print(w)\n",
        "print(b)"
      ],
      "metadata": {
        "colab": {
          "base_uri": "https://localhost:8080/"
        },
        "id": "PAQrxwm0RTTA",
        "outputId": "452e5a52-64ba-4d40-e2e8-c9ffb6eb3c9b"
      },
      "execution_count": null,
      "outputs": [
        {
          "output_type": "stream",
          "name": "stdout",
          "text": [
            "tensor([[-0.3500,  0.4287, -0.8399],\n",
            "        [-1.1520, -0.1311,  0.3817]], requires_grad=True)\n",
            "tensor([-1.1392,  0.6091], requires_grad=True)\n"
          ]
        }
      ]
    },
    {
      "cell_type": "markdown",
      "source": [
        "y = T0 + T1x1 + T2x2 + T3x3\n",
        "\n",
        "or\n",
        "\n",
        "X x W^T + b"
      ],
      "metadata": {
        "id": "OJSsZsFdR6I1"
      }
    },
    {
      "cell_type": "code",
      "source": [
        "def model(x):\n",
        "  return x @ w.t() + b"
      ],
      "metadata": {
        "id": "Nn25vwB1Rsme"
      },
      "execution_count": null,
      "outputs": []
    },
    {
      "cell_type": "code",
      "source": [
        "regu = torch.sum(w*w,0)\n",
        "regu"
      ],
      "metadata": {
        "colab": {
          "base_uri": "https://localhost:8080/"
        },
        "id": "kJznQz25Vg4-",
        "outputId": "04157cdd-c76a-4688-924d-577e4052ee55"
      },
      "execution_count": null,
      "outputs": [
        {
          "output_type": "execute_result",
          "data": {
            "text/plain": [
              "tensor([1.4496, 0.2010, 0.8511], grad_fn=<SumBackward1>)"
            ]
          },
          "metadata": {},
          "execution_count": 11
        }
      ]
    },
    {
      "cell_type": "code",
      "source": [
        "# Generate predictions\n",
        "preds = model(inputs)\n",
        "print(preds)"
      ],
      "metadata": {
        "colab": {
          "base_uri": "https://localhost:8080/"
        },
        "id": "_5zWi1-KVV75",
        "outputId": "270edaec-fe73-4dc1-8d4e-98dec8694493"
      },
      "execution_count": null,
      "outputs": [
        {
          "output_type": "stream",
          "name": "stdout",
          "text": [
            "tensor([[ -34.0825,  -75.8564],\n",
            "        [ -49.0176,  -91.3292],\n",
            "        [ -22.8561,  -95.0425],\n",
            "        [ -49.4843, -108.4081],\n",
            "        [ -42.9259,  -64.7438]], grad_fn=<AddBackward0>)\n"
          ]
        }
      ]
    },
    {
      "cell_type": "code",
      "source": [
        "# MSE loss\n",
        "def mse(t1, t2):\n",
        "  diff = t1 - t2\n",
        "  return torch.sum(diff*diff)/diff.numel()"
      ],
      "metadata": {
        "id": "hKtkCbpkWULV"
      },
      "execution_count": null,
      "outputs": []
    },
    {
      "cell_type": "markdown",
      "source": [
        "numel = divide by 10"
      ],
      "metadata": {
        "id": "DCWiQNHHYzTO"
      }
    },
    {
      "cell_type": "code",
      "source": [
        "# Mean Squared Error\n",
        "loss = mse(targets, preds)\n",
        "print(loss)"
      ],
      "metadata": {
        "colab": {
          "base_uri": "https://localhost:8080/"
        },
        "id": "UNgydL5_YO6K",
        "outputId": "0f29908b-8009-42d8-f8d9-618e74fa8b65"
      },
      "execution_count": null,
      "outputs": [
        {
          "output_type": "stream",
          "name": "stdout",
          "text": [
            "tensor(23672.0273, grad_fn=<DivBackward0>)\n"
          ]
        }
      ]
    },
    {
      "cell_type": "code",
      "source": [
        "loss.backward()"
      ],
      "metadata": {
        "id": "jGDu2ujPY-CE"
      },
      "execution_count": null,
      "outputs": []
    },
    {
      "cell_type": "code",
      "source": [
        "print('dE/dw:', w.grad)\n",
        "print('dE/db:', b.grad)"
      ],
      "metadata": {
        "colab": {
          "base_uri": "https://localhost:8080/"
        },
        "id": "XLbPTyxMXXnq",
        "outputId": "679b1709-dedc-4de8-9545-c380b6c4bedc"
      },
      "execution_count": null,
      "outputs": [
        {
          "output_type": "stream",
          "name": "stdout",
          "text": [
            "dE/dw: tensor([[ -9621.8789, -10713.7012,  -6656.4126],\n",
            "        [-15099.8242, -16229.4004, -10009.9053]])\n",
            "dE/db: tensor([-115.8733, -179.0760])\n"
          ]
        }
      ]
    },
    {
      "cell_type": "code",
      "source": [
        "with torch.no_grad():\n",
        "  w -= w.grad * 1e-5\n",
        "  b -= b.grad * 1e-5\n",
        "\n",
        "# Update rule, not an equation"
      ],
      "metadata": {
        "id": "f7NlOAcRZu8K"
      },
      "execution_count": null,
      "outputs": []
    },
    {
      "cell_type": "code",
      "source": [
        "# Empty previous variables\n",
        "w.grad.zero_()\n",
        "b.grad.zero_()"
      ],
      "metadata": {
        "colab": {
          "base_uri": "https://localhost:8080/"
        },
        "id": "9jhVXkREbkJ-",
        "outputId": "c857549c-eb2c-464e-ebed-111e66d2c9a9"
      },
      "execution_count": null,
      "outputs": [
        {
          "output_type": "execute_result",
          "data": {
            "text/plain": [
              "tensor([0., 0.])"
            ]
          },
          "metadata": {},
          "execution_count": 25
        }
      ]
    },
    {
      "cell_type": "code",
      "source": [
        "# Train for 100 epochs\n",
        "for i in range (100):\n",
        "  preds = model(inputs)\n",
        "  loss = mse(targets, preds)\n",
        "  loss.backward()\n",
        "  with torch.no_grad():\n",
        "    w -= w.grad * 1e-5\n",
        "    b -= b.grad * 1e-5\n",
        "    w.grad.zero_()\n",
        "    b.grad.zero_()\n",
        "loss"
      ],
      "metadata": {
        "colab": {
          "base_uri": "https://localhost:8080/"
        },
        "id": "IU0ENiQrbyzZ",
        "outputId": "4f7b449f-d316-40db-8afb-f10d54c020d9"
      },
      "execution_count": null,
      "outputs": [
        {
          "output_type": "execute_result",
          "data": {
            "text/plain": [
              "tensor(0.5170, grad_fn=<DivBackward0>)"
            ]
          },
          "metadata": {},
          "execution_count": 40
        }
      ]
    },
    {
      "cell_type": "markdown",
      "source": [
        "For classification, change loss funstion.\n",
        "\n",
        "In AlexNet we do 2D convolution."
      ],
      "metadata": {
        "id": "xyLJxP9OeIn3"
      }
    },
    {
      "cell_type": "markdown",
      "source": [
        "## Neural network\n",
        "\n",
        "Class with constructor and member function needed"
      ],
      "metadata": {
        "id": "ZV5vp4vSh_rG"
      }
    },
    {
      "cell_type": "code",
      "source": [],
      "metadata": {
        "id": "l6hLqiqJiC5y"
      },
      "execution_count": null,
      "outputs": []
    },
    {
      "cell_type": "markdown",
      "source": [
        "# Lab 3"
      ],
      "metadata": {
        "id": "NlDmSv4034Mo"
      }
    },
    {
      "cell_type": "markdown",
      "source": [
        "vscode"
      ],
      "metadata": {
        "id": "Qxn7ybVO9lJH"
      }
    },
    {
      "cell_type": "markdown",
      "source": [
        "conda create -n"
      ],
      "metadata": {
        "id": "1NVX7alP7I4y"
      }
    },
    {
      "cell_type": "code",
      "source": [
        "class hospital():\n",
        "  # instance\n",
        "  def _init_(self, num_doctors, num_patients):\n",
        "\n",
        "    self.num_doctors = num_doctors\n",
        "    self.num_patients = num_patients\n",
        "    # attributes\n",
        "\n",
        "  def patients_per_doc(self):\n",
        "    return int(self.num_patients / self.num_doctors)"
      ],
      "metadata": {
        "id": "xahcq3qH36uv"
      },
      "execution_count": null,
      "outputs": []
    },
    {
      "cell_type": "code",
      "source": [
        "# object\n",
        "obj1 = hospital(10, 100)"
      ],
      "metadata": {
        "colab": {
          "base_uri": "https://localhost:8080/",
          "height": 183
        },
        "id": "NA0upm9q4jU3",
        "outputId": "b5e091a1-7aeb-4cb5-903c-1e41751e2d3f"
      },
      "execution_count": null,
      "outputs": [
        {
          "output_type": "error",
          "ename": "TypeError",
          "evalue": "ignored",
          "traceback": [
            "\u001b[0;31m---------------------------------------------------------------------------\u001b[0m",
            "\u001b[0;31mTypeError\u001b[0m                                 Traceback (most recent call last)",
            "\u001b[0;32m<ipython-input-20-4a432c4992f6>\u001b[0m in \u001b[0;36m<module>\u001b[0;34m\u001b[0m\n\u001b[1;32m      1\u001b[0m \u001b[0;31m# object\u001b[0m\u001b[0;34m\u001b[0m\u001b[0;34m\u001b[0m\u001b[0;34m\u001b[0m\u001b[0m\n\u001b[0;32m----> 2\u001b[0;31m \u001b[0mobj1\u001b[0m \u001b[0;34m=\u001b[0m \u001b[0mhospital\u001b[0m\u001b[0;34m(\u001b[0m\u001b[0;36m10\u001b[0m\u001b[0;34m,\u001b[0m \u001b[0;36m100\u001b[0m\u001b[0;34m)\u001b[0m\u001b[0;34m\u001b[0m\u001b[0;34m\u001b[0m\u001b[0m\n\u001b[0m",
            "\u001b[0;31mTypeError\u001b[0m: hospital() takes no arguments"
          ]
        }
      ]
    },
    {
      "cell_type": "code",
      "source": [
        "obj1.patients_per_doc()"
      ],
      "metadata": {
        "colab": {
          "base_uri": "https://localhost:8080/",
          "height": 165
        },
        "id": "Ez4seYv34n93",
        "outputId": "644024a1-b1dd-4665-a1bc-13e611f2bc10"
      },
      "execution_count": null,
      "outputs": [
        {
          "output_type": "error",
          "ename": "NameError",
          "evalue": "ignored",
          "traceback": [
            "\u001b[0;31m---------------------------------------------------------------------------\u001b[0m",
            "\u001b[0;31mNameError\u001b[0m                                 Traceback (most recent call last)",
            "\u001b[0;32m<ipython-input-5-1917613aa67f>\u001b[0m in \u001b[0;36m<module>\u001b[0;34m\u001b[0m\n\u001b[0;32m----> 1\u001b[0;31m \u001b[0mobj1\u001b[0m\u001b[0;34m.\u001b[0m\u001b[0mpatients_per_doc\u001b[0m\u001b[0;34m(\u001b[0m\u001b[0;34m)\u001b[0m\u001b[0;34m\u001b[0m\u001b[0;34m\u001b[0m\u001b[0m\n\u001b[0m",
            "\u001b[0;31mNameError\u001b[0m: name 'obj1' is not defined"
          ]
        }
      ]
    },
    {
      "cell_type": "code",
      "source": [
        "# inheritance\n",
        "class KFC_sales(hospital):\n",
        "  def _init_(self):\n",
        "    super()._init_(10,100)\n",
        "    self.buckets_sold = 0\n",
        "    self.zingers_sold = 0\n",
        "\n",
        "  def update_sales(self):\n",
        "    self.buckets_sold = 0.5*num_doctors"
      ],
      "metadata": {
        "id": "fRKzSHsO5WJk"
      },
      "execution_count": null,
      "outputs": []
    },
    {
      "cell_type": "code",
      "source": [
        "obj2.buckets_sold"
      ],
      "metadata": {
        "colab": {
          "base_uri": "https://localhost:8080/",
          "height": 165
        },
        "id": "T3gKuny86Hiu",
        "outputId": "15e6d513-3b42-40ac-f330-457fd4fd3f4d"
      },
      "execution_count": null,
      "outputs": [
        {
          "output_type": "error",
          "ename": "AttributeError",
          "evalue": "ignored",
          "traceback": [
            "\u001b[0;31m---------------------------------------------------------------------------\u001b[0m",
            "\u001b[0;31mAttributeError\u001b[0m                            Traceback (most recent call last)",
            "\u001b[0;32m<ipython-input-15-68a0a1663621>\u001b[0m in \u001b[0;36m<module>\u001b[0;34m\u001b[0m\n\u001b[0;32m----> 1\u001b[0;31m \u001b[0mobj2\u001b[0m\u001b[0;34m.\u001b[0m\u001b[0mbuckets_sold\u001b[0m\u001b[0;34m\u001b[0m\u001b[0;34m\u001b[0m\u001b[0m\n\u001b[0m",
            "\u001b[0;31mAttributeError\u001b[0m: 'KFC_sales' object has no attribute 'buckets_sold'"
          ]
        }
      ]
    },
    {
      "cell_type": "code",
      "source": [
        "obj2.update_sales()"
      ],
      "metadata": {
        "colab": {
          "base_uri": "https://localhost:8080/",
          "height": 252
        },
        "id": "XKBKqaqb6hWx",
        "outputId": "d4e66a2b-8dde-47eb-c44e-4f021d0c1dcb"
      },
      "execution_count": null,
      "outputs": [
        {
          "output_type": "error",
          "ename": "NameError",
          "evalue": "ignored",
          "traceback": [
            "\u001b[0;31m---------------------------------------------------------------------------\u001b[0m",
            "\u001b[0;31mNameError\u001b[0m                                 Traceback (most recent call last)",
            "\u001b[0;32m<ipython-input-16-c7cffa51b33d>\u001b[0m in \u001b[0;36m<module>\u001b[0;34m\u001b[0m\n\u001b[0;32m----> 1\u001b[0;31m \u001b[0mobj2\u001b[0m\u001b[0;34m.\u001b[0m\u001b[0mupdate_sales\u001b[0m\u001b[0;34m(\u001b[0m\u001b[0;34m)\u001b[0m\u001b[0;34m\u001b[0m\u001b[0;34m\u001b[0m\u001b[0m\n\u001b[0m",
            "\u001b[0;32m<ipython-input-12-0a4b024d4dd7>\u001b[0m in \u001b[0;36mupdate_sales\u001b[0;34m(self)\u001b[0m\n\u001b[1;32m      7\u001b[0m \u001b[0;34m\u001b[0m\u001b[0m\n\u001b[1;32m      8\u001b[0m   \u001b[0;32mdef\u001b[0m \u001b[0mupdate_sales\u001b[0m\u001b[0;34m(\u001b[0m\u001b[0mself\u001b[0m\u001b[0;34m)\u001b[0m\u001b[0;34m:\u001b[0m\u001b[0;34m\u001b[0m\u001b[0;34m\u001b[0m\u001b[0m\n\u001b[0;32m----> 9\u001b[0;31m     \u001b[0mself\u001b[0m\u001b[0;34m.\u001b[0m\u001b[0mbuckets_sold\u001b[0m \u001b[0;34m=\u001b[0m \u001b[0;36m0.5\u001b[0m\u001b[0;34m*\u001b[0m\u001b[0mnum_doctors\u001b[0m\u001b[0;34m\u001b[0m\u001b[0;34m\u001b[0m\u001b[0m\n\u001b[0m",
            "\u001b[0;31mNameError\u001b[0m: name 'num_doctors' is not defined"
          ]
        }
      ]
    },
    {
      "cell_type": "code",
      "source": [
        "import torch\n",
        "from torch.utils.data import Dataset, Dataloader\n",
        "from torchvision import transforms"
      ],
      "metadata": {
        "colab": {
          "base_uri": "https://localhost:8080/",
          "height": 339
        },
        "id": "mkG6igoJ7se4",
        "outputId": "eaeb5cbc-df47-48ca-c15c-aeab8531969a"
      },
      "execution_count": null,
      "outputs": [
        {
          "output_type": "error",
          "ename": "ImportError",
          "evalue": "ignored",
          "traceback": [
            "\u001b[0;31m---------------------------------------------------------------------------\u001b[0m",
            "\u001b[0;31mImportError\u001b[0m                               Traceback (most recent call last)",
            "\u001b[0;32m<ipython-input-22-6ae32fddcbe5>\u001b[0m in \u001b[0;36m<module>\u001b[0;34m\u001b[0m\n\u001b[1;32m      1\u001b[0m \u001b[0;32mimport\u001b[0m \u001b[0mtorch\u001b[0m\u001b[0;34m\u001b[0m\u001b[0;34m\u001b[0m\u001b[0m\n\u001b[0;32m----> 2\u001b[0;31m \u001b[0;32mfrom\u001b[0m \u001b[0mtorch\u001b[0m\u001b[0;34m.\u001b[0m\u001b[0mutils\u001b[0m\u001b[0;34m.\u001b[0m\u001b[0mdata\u001b[0m \u001b[0;32mimport\u001b[0m \u001b[0mDataset\u001b[0m\u001b[0;34m,\u001b[0m \u001b[0mDataloader\u001b[0m\u001b[0;34m\u001b[0m\u001b[0;34m\u001b[0m\u001b[0m\n\u001b[0m\u001b[1;32m      3\u001b[0m \u001b[0;32mfrom\u001b[0m \u001b[0mtorchvision\u001b[0m \u001b[0;32mimport\u001b[0m \u001b[0mtransforms\u001b[0m\u001b[0;34m\u001b[0m\u001b[0;34m\u001b[0m\u001b[0m\n",
            "\u001b[0;31mImportError\u001b[0m: cannot import name 'Dataloader' from 'torch.utils.data' (/usr/local/lib/python3.8/dist-packages/torch/utils/data/__init__.py)",
            "",
            "\u001b[0;31m---------------------------------------------------------------------------\u001b[0;32m\nNOTE: If your import is failing due to a missing package, you can\nmanually install dependencies using either !pip or !apt.\n\nTo view examples of installing some common dependencies, click the\n\"Open Examples\" button below.\n\u001b[0;31m---------------------------------------------------------------------------\u001b[0m\n"
          ],
          "errorDetails": {
            "actions": [
              {
                "action": "open_url",
                "actionText": "Open Examples",
                "url": "/notebooks/snippets/importing_libraries.ipynb"
              }
            ]
          }
        }
      ]
    },
    {
      "cell_type": "code",
      "source": [
        "class MyDataset():\n",
        "  # saves path\n",
        "  def _init_(self, dataset_path, transform = None):\n",
        "    self.transform = transform\n",
        "\n",
        "  # list of paths\n",
        "  def _len_(self):\n",
        "    pass\n",
        "\n",
        "  # index range from len\n",
        "  def _getitem_(self, index):\n",
        "    pass\n",
        ""
      ],
      "metadata": {
        "id": "x4ThDHQC7-IO"
      },
      "execution_count": null,
      "outputs": []
    },
    {
      "cell_type": "markdown",
      "source": [
        "jpeg -> 3 channel\n",
        "\n",
        "png -> 4 channel"
      ],
      "metadata": {
        "id": "zEnsZwwC-It2"
      }
    },
    {
      "cell_type": "markdown",
      "source": [
        "# Lab 4"
      ],
      "metadata": {
        "id": "sGd2D6-IMcLf"
      }
    },
    {
      "cell_type": "markdown",
      "source": [
        "Dataset class defined as custom.\n",
        "\n",
        "It has three main functions.\n",
        "*   constructor *def _init_ ()*\n",
        "*   argument *csv file*\n",
        "*   *self* transform\n",
        "*   class path\n",
        "\n",
        "TOTENSOR *converts pil image to numpy array or tensor*\n",
        "\n",
        "self *shares class's memory*"
      ],
      "metadata": {
        "id": "02JEp4AxM_gq"
      }
    },
    {
      "cell_type": "code",
      "source": [
        "# list\n",
        "5*[2]"
      ],
      "metadata": {
        "colab": {
          "base_uri": "https://localhost:8080/"
        },
        "id": "kcbKhLZ6MfTl",
        "outputId": "b73653d6-0735-48cb-9285-3db8207326fc"
      },
      "execution_count": null,
      "outputs": [
        {
          "output_type": "execute_result",
          "data": {
            "text/plain": [
              "[2, 2, 2, 2, 2]"
            ]
          },
          "metadata": {},
          "execution_count": 2
        }
      ]
    },
    {
      "cell_type": "code",
      "source": [
        "device = torch.device(\"cuda:0\" if torch.cuda.is_available() else \"cpu\")"
      ],
      "metadata": {
        "id": "Fc8aYlFDTlan"
      },
      "execution_count": null,
      "outputs": []
    },
    {
      "cell_type": "markdown",
      "source": [
        "### model.ipynb\n",
        "\n",
        "torchvision.dataset.FashionMNIST\n",
        "\n",
        "tensor vs. multi dimensional array : math different"
      ],
      "metadata": {
        "id": "rkyqTBRLUC2B"
      }
    },
    {
      "cell_type": "code",
      "source": [
        "a = next(iter(train_set))\n",
        "a[0].size"
      ],
      "metadata": {
        "id": "8QqHfSpkXAZf"
      },
      "execution_count": null,
      "outputs": []
    }
  ]
}